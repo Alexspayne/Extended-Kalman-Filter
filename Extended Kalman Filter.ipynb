{
 "cells": [
  {
   "cell_type": "markdown",
   "metadata": {},
   "source": [
    "## Extended Kalman Filter\n",
    "I decided to implement this first in Python instead of just filling in the blanks and patching together the boilerplate code from Udacity.\n",
    "\n",
    "This will allow me to code it up from scratch and really get an intimate understanding of Kalman Filters before I complete the implementation in C++.\n",
    "\n",
    "Using a Jupyter notebook will also help me to take thorough notes on the math in the midst of the code."
   ]
  },
  {
   "cell_type": "markdown",
   "metadata": {},
   "source": [
    "### Kalman Filter\n",
    "The first step will be to recreate the normal Kalman Filter implementation that I already built in C++ during the lessons."
   ]
  },
  {
   "cell_type": "code",
   "execution_count": 121,
   "metadata": {
    "collapsed": true
   },
   "outputs": [],
   "source": [
    "import numpy as np"
   ]
  },
  {
   "cell_type": "code",
   "execution_count": 122,
   "metadata": {
    "collapsed": false
   },
   "outputs": [],
   "source": [
    "class KalmanFilter():\n",
    "    \"\"\"Tracks the state.\"\"\"\n",
    "    \n",
    "    def __init__(self):\n",
    "#   VectorXd x_;\n",
    "\n",
    "        self.x_ = None\n",
    "#   // state covariance matrix\n",
    "#   MatrixXd P_;\n",
    "        self.P_ = np.matrix(np.ndarray((4,4)))\n",
    "#   // state transistion matrix\n",
    "#   MatrixXd F_;\n",
    "        self.F_ = np.matrix([1, 0, 1, 0,\n",
    "                             0, 1, 0, 1,\n",
    "                             0, 0, 1, 0,\n",
    "                             0, 0, 0, 1]).reshape(4,4)\n",
    "#   // measurement matrix\n",
    "#   MatrixXd H_;\n",
    "        self.H_ = np.matrix([1, 0, 0, 0,\n",
    "                             0, 1, 0, 0]).reshape(2,4)\n",
    "#   // measurement covariance matrix\n",
    "#   MatrixXd R_;\n",
    "        self.R_ = np.matrix([0.0225, 0,\n",
    "                             0, 0.0225]).reshape(2,2)\n",
    "    def Predict(self):\n",
    "        self.x_ = self.F_ * self.x_\n",
    "        Ft = self.F_.transpose()\n",
    "        self.P_ = self.F_ * self.P_ * Ft + self.Q_\n",
    "        \n",
    "    def Update(self, z):\n",
    "#         print \"Shape of z\", z.shape()\n",
    "\n",
    "        z_pred = self.H_ * self.x_\n",
    "\n",
    "        z = np.matrix(z).reshape(2,1)\n",
    "        y = z - z_pred\n",
    "        Ht = self.H_.transpose()\n",
    "        S = self.H_ * self.P_ * Ht + self.R_\n",
    "        Si = S.I\n",
    "        PHt = self.P_ * Ht\n",
    "        K = PHt * Si\n",
    "\n",
    "#       // new estimate\n",
    "\n",
    "        self.x_ = self.x_ + (K * y)\n",
    "\n",
    "        # Don't know why but x_ keeps getting assigned a datatype and it prevents matrix mult.\n",
    "        self.x_.dtype = None\n",
    "        x_size = len(self.x_)\n",
    "        I = np.identity(x_size)\n",
    "\n",
    "        self.P_ = (I - K * self.H_) * self.P_"
   ]
  },
  {
   "cell_type": "code",
   "execution_count": 127,
   "metadata": {
    "collapsed": false
   },
   "outputs": [],
   "source": [
    "class Tracking():\n",
    "    \"\"\"Tracks the state of the Kalman Filter.\"\"\"\n",
    "    def __init__(self):\n",
    "        self.kf_ = KalmanFilter()\n",
    "        self.previous_timestamp_ = 0\n",
    "        self.noise_ax = 5\n",
    "        self.noise_ay = 5\n",
    "        self.is_initialized_ = False\n",
    "    def ProcessMeasurement(self, measurement_pack):\n",
    "        if not self.is_initialized_:\n",
    "            print( \"Kalman Filter Initialization \" )\n",
    "            # Handle Lidar and Radar differently.\n",
    "            if measurement_pack.sensor_type_ == \"L\":\n",
    "                self.kf_.x_ = np.matrix([measurement_pack.raw_measurements_[0],\n",
    "                          measurement_pack.raw_measurements_[1],\n",
    "                          0, 0]).reshape(4,1)\n",
    "                self.kf_.x_.dtype = None                \n",
    "            elif measurement_pack.sensor_type_ == \"R\":\n",
    "                ro = \n",
    "                self.kf_.x_ = np.matrix([measurement_pack.raw_measurements_[0],\n",
    "                          measurement_pack.raw_measurements_[1],\n",
    "                          0, 0]).reshape(4,1)\n",
    "                self.kf_.x_.dtype = None\n",
    "                \n",
    "            self.previous_timestamp_ = measurement_pack.timestamp_\n",
    "            \n",
    "            \n",
    "            self.is_initialized_ = True\n",
    "            return\n",
    "        \n",
    "        dt = (measurement_pack.timestamp_ - self.previous_timestamp_) / 1000000.0\n",
    "        self.previous_timestamp_ = measurement_pack.timestamp_\n",
    "        print(\"Time: \" + str(dt))\n",
    "#         // 1. Modify the F matrix so that the time is integrated\n",
    "        self.kf_.F_[0, 2] = dt;\n",
    "        self.kf_.F_[1, 3] = dt\n",
    "#         // 2. Set the process covariance matrix Q\n",
    "        self.kf_.Q_ = np.matrix([(dt**4)*self.noise_ax/4, 0, (dt**3)*self.noise_ax/2, 0,\n",
    "                                 0, (dt**4)*self.noise_ay/4, 0, (dt**3)*self.noise_ay/2,\n",
    "                                 (dt**3)*self.noise_ax/2, 0, (dt**2)*self.noise_ax/1, 0,\n",
    "                                 0, (dt**3)*self.noise_ay/2, 0, (dt**2)*self.noise_ay/1]).reshape(4,4)\n",
    "\n",
    "#         // 3. Call the Kalman Filter predict() function\n",
    "        self.kf_.Predict()\n",
    "#         // 4. Call the Kalman Filter update() function\n",
    "        self.kf_.Update(measurement_pack.raw_measurements_)\n",
    "        \n",
    "        \n",
    "        \n",
    "        print(\"x_= \" )\n",
    "        print(self.kf_.x_)\n",
    "        print(\"P_= \")\n",
    "        print(self.kf_.P_)"
   ]
  },
  {
   "cell_type": "markdown",
   "metadata": {},
   "source": [
    "## Read the measurement file\n"
   ]
  },
  {
   "cell_type": "code",
   "execution_count": 128,
   "metadata": {
    "collapsed": false
   },
   "outputs": [],
   "source": [
    "class MeasurementPackage():\n",
    "    def __init__(self):\n",
    "        self.sensor_type_ = \"\"\n",
    "        self.timestamp_ = 0\n",
    "        self.raw_measurements_ = None\n",
    "        \n",
    "class GroundTruthPackage():\n",
    "    def __init__(self):\n",
    "        self.sensor_type_ = \"\"\n",
    "        self.timestamp_ = 0\n",
    "        self.gt_values_ = None"
   ]
  },
  {
   "cell_type": "code",
   "execution_count": 129,
   "metadata": {
    "collapsed": false
   },
   "outputs": [],
   "source": [
    "#//input file with laser and radar measurements\n",
    "in_file_name_ = \"test.txt\"\n",
    "\n",
    "#//output file with the estimation (px, py, vx, vy), measurements (px and py meas) and ground truths (px, py, vx, vy)\n",
    "out_file_name_ = \"obj_pose-laser-radar-output.txt\"\n",
    "\n",
    "with open(in_file_name_, 'r') as f:\n",
    "    data_lines = f.readlines()\n",
    "\n",
    "measurement_pack_list = []\n",
    "gt_pack_list = []\n",
    "\n",
    "# Extract data from line\n",
    "\n",
    "for line in data_lines:\n",
    "    entry = line.split(\"\\t\")\n",
    "    meas_package =  MeasurementPackage()\n",
    "    gt_package = GroundTruthPackage()\n",
    "    sensor_type = entry.pop(0)\n",
    "    if sensor_type == \"L\":\n",
    "        # Read Measurements\n",
    "        meas_package.sensor_type_ = sensor_type\n",
    "        x = entry.pop(0)\n",
    "        y = entry.pop(0)\n",
    "        meas_package.raw_measurements_ = (float(x), float(y))\n",
    "        timestamp = entry.pop(0)\n",
    "        meas_package.timestamp_ = float(timestamp)\n",
    "        measurement_pack_list.append(meas_package)\n",
    "    elif sensor_type == \"R\":\n",
    "        meas_package.sensor_type_ = sensor_type\n",
    "        ro = entry.pop(0)\n",
    "        phi = entry.pop(0)\n",
    "        ro_dot = entry.pop(0)\n",
    "        meas_package.raw_measurements_ = map(float,(ro, phi, ro_dot))\n",
    "        timestamp = entry.pop(0)\n",
    "        meas_package.timestamp_ = float(timestamp)\n",
    "        measurement_pack_list.append(meas_package)\n",
    "        \n",
    "    # Get the ground truth package\n",
    "    \n",
    "    x_gt, y_gt, vx_gt, vy_gt = map(float, entry)\n",
    "    gt_matrix = np.matrix([x_gt, y_gt, vx_gt, vy_gt]).reshape(4,1)\n",
    "    gt_package.gt_values_ = gt_matrix\n",
    "    \n",
    "    gt_pack_list.append(gt_package)\n",
    "    \n"
   ]
  },
  {
   "cell_type": "code",
   "execution_count": 130,
   "metadata": {
    "collapsed": false,
    "scrolled": false
   },
   "outputs": [
    {
     "name": "stdout",
     "output_type": "stream",
     "text": [
      "Kalman Filter Initialization \n",
      "Time: 0.049996\n"
     ]
    },
    {
     "ename": "TypeError",
     "evalue": "unsupported operand type(s) for *: 'int' and 'NoneType'",
     "output_type": "error",
     "traceback": [
      "\u001b[0;31m---------------------------------------------------------------------------\u001b[0m",
      "\u001b[0;31mTypeError\u001b[0m                                 Traceback (most recent call last)",
      "\u001b[0;32m<ipython-input-130-13295eefde36>\u001b[0m in \u001b[0;36m<module>\u001b[0;34m()\u001b[0m\n\u001b[1;32m      2\u001b[0m \u001b[0mestimations\u001b[0m \u001b[0;34m=\u001b[0m \u001b[0;34m[\u001b[0m\u001b[0;34m]\u001b[0m\u001b[0;34m\u001b[0m\u001b[0m\n\u001b[1;32m      3\u001b[0m \u001b[0;32mfor\u001b[0m \u001b[0mmeasurement\u001b[0m\u001b[0;34m,\u001b[0m \u001b[0mground_truth\u001b[0m \u001b[0;32min\u001b[0m \u001b[0mzip\u001b[0m\u001b[0;34m(\u001b[0m\u001b[0mmeasurement_pack_list\u001b[0m\u001b[0;34m,\u001b[0m \u001b[0mgt_pack_list\u001b[0m\u001b[0;34m)\u001b[0m\u001b[0;34m:\u001b[0m\u001b[0;34m\u001b[0m\u001b[0m\n\u001b[0;32m----> 4\u001b[0;31m     \u001b[0mtracking\u001b[0m\u001b[0;34m.\u001b[0m\u001b[0mProcessMeasurement\u001b[0m\u001b[0;34m(\u001b[0m\u001b[0mmeasurement\u001b[0m\u001b[0;34m)\u001b[0m\u001b[0;34m\u001b[0m\u001b[0m\n\u001b[0m\u001b[1;32m      5\u001b[0m     \u001b[0mestimations\u001b[0m\u001b[0;34m.\u001b[0m\u001b[0mappend\u001b[0m\u001b[0;34m(\u001b[0m\u001b[0mtracking\u001b[0m\u001b[0;34m.\u001b[0m\u001b[0mkf_\u001b[0m\u001b[0;34m.\u001b[0m\u001b[0mx_\u001b[0m\u001b[0;34m)\u001b[0m\u001b[0;34m\u001b[0m\u001b[0m\n\u001b[1;32m      6\u001b[0m \u001b[0;34m\u001b[0m\u001b[0m\n",
      "\u001b[0;32m<ipython-input-127-8fca21ea227c>\u001b[0m in \u001b[0;36mProcessMeasurement\u001b[0;34m(self, measurement_pack)\u001b[0m\n\u001b[1;32m     36\u001b[0m \u001b[0;34m\u001b[0m\u001b[0m\n\u001b[1;32m     37\u001b[0m \u001b[0;31m#         // 3. Call the Kalman Filter predict() function\u001b[0m\u001b[0;34m\u001b[0m\u001b[0;34m\u001b[0m\u001b[0m\n\u001b[0;32m---> 38\u001b[0;31m         \u001b[0mself\u001b[0m\u001b[0;34m.\u001b[0m\u001b[0mkf_\u001b[0m\u001b[0;34m.\u001b[0m\u001b[0mPredict\u001b[0m\u001b[0;34m(\u001b[0m\u001b[0;34m)\u001b[0m\u001b[0;34m\u001b[0m\u001b[0m\n\u001b[0m\u001b[1;32m     39\u001b[0m \u001b[0;31m#         // 4. Call the Kalman Filter update() function\u001b[0m\u001b[0;34m\u001b[0m\u001b[0;34m\u001b[0m\u001b[0m\n\u001b[1;32m     40\u001b[0m         \u001b[0mself\u001b[0m\u001b[0;34m.\u001b[0m\u001b[0mkf_\u001b[0m\u001b[0;34m.\u001b[0m\u001b[0mUpdate\u001b[0m\u001b[0;34m(\u001b[0m\u001b[0mmeasurement_pack\u001b[0m\u001b[0;34m.\u001b[0m\u001b[0mraw_measurements_\u001b[0m\u001b[0;34m)\u001b[0m\u001b[0;34m\u001b[0m\u001b[0m\n",
      "\u001b[0;32m<ipython-input-122-f605005b4d6e>\u001b[0m in \u001b[0;36mPredict\u001b[0;34m(self)\u001b[0m\n\u001b[1;32m     24\u001b[0m                              0, 0.0225]).reshape(2,2)\n\u001b[1;32m     25\u001b[0m     \u001b[0;32mdef\u001b[0m \u001b[0mPredict\u001b[0m\u001b[0;34m(\u001b[0m\u001b[0mself\u001b[0m\u001b[0;34m)\u001b[0m\u001b[0;34m:\u001b[0m\u001b[0;34m\u001b[0m\u001b[0m\n\u001b[0;32m---> 26\u001b[0;31m         \u001b[0mself\u001b[0m\u001b[0;34m.\u001b[0m\u001b[0mx_\u001b[0m \u001b[0;34m=\u001b[0m \u001b[0mself\u001b[0m\u001b[0;34m.\u001b[0m\u001b[0mF_\u001b[0m \u001b[0;34m*\u001b[0m \u001b[0mself\u001b[0m\u001b[0;34m.\u001b[0m\u001b[0mx_\u001b[0m\u001b[0;34m\u001b[0m\u001b[0m\n\u001b[0m\u001b[1;32m     27\u001b[0m         \u001b[0mFt\u001b[0m \u001b[0;34m=\u001b[0m \u001b[0mself\u001b[0m\u001b[0;34m.\u001b[0m\u001b[0mF_\u001b[0m\u001b[0;34m.\u001b[0m\u001b[0mtranspose\u001b[0m\u001b[0;34m(\u001b[0m\u001b[0;34m)\u001b[0m\u001b[0;34m\u001b[0m\u001b[0m\n\u001b[1;32m     28\u001b[0m         \u001b[0mself\u001b[0m\u001b[0;34m.\u001b[0m\u001b[0mP_\u001b[0m \u001b[0;34m=\u001b[0m \u001b[0mself\u001b[0m\u001b[0;34m.\u001b[0m\u001b[0mF_\u001b[0m \u001b[0;34m*\u001b[0m \u001b[0mself\u001b[0m\u001b[0;34m.\u001b[0m\u001b[0mP_\u001b[0m \u001b[0;34m*\u001b[0m \u001b[0mFt\u001b[0m \u001b[0;34m+\u001b[0m \u001b[0mself\u001b[0m\u001b[0;34m.\u001b[0m\u001b[0mQ_\u001b[0m\u001b[0;34m\u001b[0m\u001b[0m\n",
      "\u001b[0;32m/usr/local/lib/python2.7/dist-packages/numpy/matrixlib/defmatrix.pyc\u001b[0m in \u001b[0;36m__mul__\u001b[0;34m(self, other)\u001b[0m\n\u001b[1;32m    343\u001b[0m             \u001b[0;32mreturn\u001b[0m \u001b[0mN\u001b[0m\u001b[0;34m.\u001b[0m\u001b[0mdot\u001b[0m\u001b[0;34m(\u001b[0m\u001b[0mself\u001b[0m\u001b[0;34m,\u001b[0m \u001b[0masmatrix\u001b[0m\u001b[0;34m(\u001b[0m\u001b[0mother\u001b[0m\u001b[0;34m)\u001b[0m\u001b[0;34m)\u001b[0m\u001b[0;34m\u001b[0m\u001b[0m\n\u001b[1;32m    344\u001b[0m         \u001b[0;32mif\u001b[0m \u001b[0misscalar\u001b[0m\u001b[0;34m(\u001b[0m\u001b[0mother\u001b[0m\u001b[0;34m)\u001b[0m \u001b[0;32mor\u001b[0m \u001b[0;32mnot\u001b[0m \u001b[0mhasattr\u001b[0m\u001b[0;34m(\u001b[0m\u001b[0mother\u001b[0m\u001b[0;34m,\u001b[0m \u001b[0;34m'__rmul__'\u001b[0m\u001b[0;34m)\u001b[0m \u001b[0;34m:\u001b[0m\u001b[0;34m\u001b[0m\u001b[0m\n\u001b[0;32m--> 345\u001b[0;31m             \u001b[0;32mreturn\u001b[0m \u001b[0mN\u001b[0m\u001b[0;34m.\u001b[0m\u001b[0mdot\u001b[0m\u001b[0;34m(\u001b[0m\u001b[0mself\u001b[0m\u001b[0;34m,\u001b[0m \u001b[0mother\u001b[0m\u001b[0;34m)\u001b[0m\u001b[0;34m\u001b[0m\u001b[0m\n\u001b[0m\u001b[1;32m    346\u001b[0m         \u001b[0;32mreturn\u001b[0m \u001b[0mNotImplemented\u001b[0m\u001b[0;34m\u001b[0m\u001b[0m\n\u001b[1;32m    347\u001b[0m \u001b[0;34m\u001b[0m\u001b[0m\n",
      "\u001b[0;31mTypeError\u001b[0m: unsupported operand type(s) for *: 'int' and 'NoneType'"
     ]
    }
   ],
   "source": [
    "tracking = Tracking()\n",
    "estimations = []\n",
    "for measurement, ground_truth in zip(measurement_pack_list, gt_pack_list):\n",
    "    tracking.ProcessMeasurement(measurement)\n",
    "    estimations.append(tracking.kf_.x_)\n",
    "    "
   ]
  },
  {
   "cell_type": "code",
   "execution_count": 134,
   "metadata": {
    "collapsed": false
   },
   "outputs": [],
   "source": [
    "t = measurement_pack_list[0]"
   ]
  },
  {
   "cell_type": "code",
   "execution_count": 137,
   "metadata": {
    "collapsed": false
   },
   "outputs": [
    {
     "data": {
      "text/plain": [
       "1477010443399637.0"
      ]
     },
     "execution_count": 137,
     "metadata": {},
     "output_type": "execute_result"
    }
   ],
   "source": [
    "t.timestamp_"
   ]
  },
  {
   "cell_type": "code",
   "execution_count": 112,
   "metadata": {
    "collapsed": false
   },
   "outputs": [],
   "source": [
    "# Calculate RMSE\n",
    "\n",
    "def CalculateRMSE(estimations, ground_truth):\n",
    "    rmse = np.matrix([0.,0.,0.,0.]).reshape(4,1)\n",
    "\n",
    "    if len(estimations) != len(ground_truth) or len(estimations) == 0:\n",
    "        print \"Not right size, too bad\"\n",
    "        return rmse\n",
    "\n",
    "    for estimation, truth in zip(estimations, ground_truth):\n",
    "        residual = estimation - truth.gt_values_\n",
    "        \n",
    "        residual = np.square(residual)\n",
    "        rmse += residual\n",
    "        \n",
    "        #     Calculate the meain\n",
    "        rmse = rmse/len(estimations)\n",
    "        # Calculate the sqrt\n",
    "        rmse = np.sqrt(rmse)\n",
    "\n",
    "    return rmse\n",
    "\n",
    "rmse = CalculateRMSE(estimations, gt_pack_list)"
   ]
  },
  {
   "cell_type": "code",
   "execution_count": 118,
   "metadata": {
    "collapsed": false
   },
   "outputs": [
    {
     "data": {
      "text/plain": [
       "matrix([[ 0.06399414],\n",
       "        [ 0.10580425],\n",
       "        [ 0.883126  ],\n",
       "        [ 3.96462076]])"
      ]
     },
     "execution_count": 118,
     "metadata": {},
     "output_type": "execute_result"
    }
   ],
   "source": [
    "rmse"
   ]
  },
  {
   "cell_type": "code",
   "execution_count": 120,
   "metadata": {
    "collapsed": false
   },
   "outputs": [
    {
     "data": {
      "text/plain": [
       "matrix([[ 11.35    ],\n",
       "        [ -1.85    ],\n",
       "        [  0.909847],\n",
       "        [  2.72953 ]])"
      ]
     },
     "execution_count": 120,
     "metadata": {},
     "output_type": "execute_result"
    }
   ],
   "source": [
    "gt_package.gt_values_"
   ]
  },
  {
   "cell_type": "code",
   "execution_count": 95,
   "metadata": {
    "collapsed": false
   },
   "outputs": [
    {
     "data": {
      "text/plain": [
       "matrix([[ 8.10840938],\n",
       "        [ 0.13600664],\n",
       "        [-6.44629982],\n",
       "        [-2.18989325]])"
      ]
     },
     "execution_count": 95,
     "metadata": {},
     "output_type": "execute_result"
    }
   ],
   "source": [
    "estimations[9]"
   ]
  },
  {
   "cell_type": "code",
   "execution_count": 38,
   "metadata": {
    "collapsed": false
   },
   "outputs": [
    {
     "data": {
      "text/plain": [
       "matrix([[  8.44822240e+00,   8.40270263e+00],\n",
       "        [  2.97086340e-01,   2.51566564e-01],\n",
       "        [  8.47067971e-04,  -9.08511776e-01],\n",
       "        [  9.09629817e-01,   2.70973052e-04]])"
      ]
     },
     "execution_count": 38,
     "metadata": {},
     "output_type": "execute_result"
    }
   ],
   "source": [
    "\n",
    "tracking.kf_.F_ * tracking.kf_.x_"
   ]
  },
  {
   "cell_type": "code",
   "execution_count": 43,
   "metadata": {
    "collapsed": false
   },
   "outputs": [
    {
     "data": {
      "text/plain": [
       "matrix([[ 8.4482224 ,  8.40270263],\n",
       "        [ 0.29708634,  0.25156656]])"
      ]
     },
     "execution_count": 43,
     "metadata": {},
     "output_type": "execute_result"
    }
   ],
   "source": [
    "tracking.kf_.H_ * tracking.kf_.x_ # z_pred"
   ]
  },
  {
   "cell_type": "code",
   "execution_count": 45,
   "metadata": {
    "collapsed": false
   },
   "outputs": [
    {
     "data": {
      "text/plain": [
       "(8.45582, 0.253997)"
      ]
     },
     "execution_count": 45,
     "metadata": {},
     "output_type": "execute_result"
    }
   ],
   "source": [
    "measurement.raw_measurements_"
   ]
  },
  {
   "cell_type": "code",
   "execution_count": 47,
   "metadata": {
    "collapsed": false
   },
   "outputs": [
    {
     "data": {
      "text/plain": [
       "matrix([[1, 0, 0, 0],\n",
       "        [0, 1, 0, 0]])"
      ]
     },
     "execution_count": 47,
     "metadata": {},
     "output_type": "execute_result"
    }
   ],
   "source": [
    "tracking.kf_.H_"
   ]
  },
  {
   "cell_type": "code",
   "execution_count": null,
   "metadata": {
    "collapsed": true
   },
   "outputs": [],
   "source": [
    "# Create a tracking instance\n",
    "tracking = Tracking()"
   ]
  },
  {
   "cell_type": "code",
   "execution_count": 126,
   "metadata": {
    "collapsed": false
   },
   "outputs": [
    {
     "data": {
      "text/plain": [
       "['11.35', '-1.85', '0.909847', '2.72953']"
      ]
     },
     "execution_count": 126,
     "metadata": {},
     "output_type": "execute_result"
    }
   ],
   "source": [
    "gt_package.gt_values_"
   ]
  },
  {
   "cell_type": "code",
   "execution_count": 85,
   "metadata": {
    "collapsed": true
   },
   "outputs": [],
   "source": [
    "test = test.split(\"\\t\")"
   ]
  },
  {
   "cell_type": "code",
   "execution_count": 89,
   "metadata": {
    "collapsed": false
   },
   "outputs": [
    {
     "data": {
      "text/plain": [
       "['R',\n",
       " '8.46642',\n",
       " '0.0287602',\n",
       " '-3.04035',\n",
       " '1477010443399637',\n",
       " '8.6',\n",
       " '0.25',\n",
       " '-3.00029',\n",
       " '0\\n']"
      ]
     },
     "execution_count": 89,
     "metadata": {},
     "output_type": "execute_result"
    }
   ],
   "source": [
    "entry = test\n",
    "entry"
   ]
  },
  {
   "cell_type": "code",
   "execution_count": 91,
   "metadata": {
    "collapsed": true
   },
   "outputs": [],
   "source": [
    "sensor_type = entry.pop(0)"
   ]
  },
  {
   "cell_type": "code",
   "execution_count": 94,
   "metadata": {
    "collapsed": false
   },
   "outputs": [
    {
     "data": {
      "text/plain": [
       "['8.46642',\n",
       " '0.0287602',\n",
       " '-3.04035',\n",
       " '1477010443399637',\n",
       " '8.6',\n",
       " '0.25',\n",
       " '-3.00029',\n",
       " '0\\n']"
      ]
     },
     "execution_count": 94,
     "metadata": {},
     "output_type": "execute_result"
    }
   ],
   "source": [
    "if sensor_type == 'R':\n",
    "    meas_package.sensor_type = "
   ]
  },
  {
   "cell_type": "code",
   "execution_count": null,
   "metadata": {
    "collapsed": true
   },
   "outputs": [],
   "source": []
  }
 ],
 "metadata": {
  "kernelspec": {
   "display_name": "Python 2",
   "language": "python",
   "name": "python2"
  },
  "language_info": {
   "codemirror_mode": {
    "name": "ipython",
    "version": 2
   },
   "file_extension": ".py",
   "mimetype": "text/x-python",
   "name": "python",
   "nbconvert_exporter": "python",
   "pygments_lexer": "ipython2",
   "version": "2.7.12"
  },
  "widgets": {
   "state": {},
   "version": "1.1.2"
  }
 },
 "nbformat": 4,
 "nbformat_minor": 2
}
