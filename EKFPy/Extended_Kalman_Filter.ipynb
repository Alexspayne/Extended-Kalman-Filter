{
 "cells": [
  {
   "cell_type": "markdown",
   "metadata": {},
   "source": [
    "## Extended Kalman Filter\n",
    "I decided to implement this first in Python instead of just filling in the blanks and patching together the boilerplate code from Udacity.\n",
    "\n",
    "This will allow me to code it up from scratch and really get an intimate understanding of Kalman Filters before I complete the implementation in C++.\n",
    "\n",
    "Using a Jupyter notebook will also help me to take thorough notes on the math in the midst of the code."
   ]
  },
  {
   "cell_type": "markdown",
   "metadata": {},
   "source": [
    "In EKF.py, I recreate the normal Kalman Filter implementation that I already built in C++ during the lessons.  Then I filled in the gaps in the implementation."
   ]
  },
  {
   "cell_type": "code",
   "execution_count": 1,
   "metadata": {
    "collapsed": false
   },
   "outputs": [],
   "source": [
    "from EKF import *"
   ]
  },
  {
   "cell_type": "code",
   "execution_count": 2,
   "metadata": {
    "collapsed": false
   },
   "outputs": [],
   "source": [
    "#//input file with laser and radar measurements\n",
    "in_file_name_ = \"../data/sample-laser-radar-measurement-data-1.txt\"  \n",
    "\n",
    "#//output file with the estimation (px, py, vx, vy), measurements (px and py meas) and ground truths (px, py, vx, vy)\n",
    "out_file_name_ = \"obj_pose-laser-radar-output.txt\""
   ]
  },
  {
   "cell_type": "code",
   "execution_count": 3,
   "metadata": {
    "collapsed": false
   },
   "outputs": [
    {
     "name": "stdout",
     "output_type": "stream",
     "text": [
      "RMSE: [[ 0.02448499]\n",
      " [ 0.06257636]\n",
      " [ 0.03133589]\n",
      " [ 0.01819227]]\n"
     ]
    }
   ],
   "source": [
    "print \"RMSE:\",run_ekf(in_file_name_, (.163 , .000041))"
   ]
  },
  {
   "cell_type": "markdown",
   "metadata": {},
   "source": [
    "\n",
    "# Discern an optimal set of noise parameters"
   ]
  },
  {
   "cell_type": "code",
   "execution_count": 4,
   "metadata": {
    "collapsed": true
   },
   "outputs": [],
   "source": [
    "import itertools\n",
    "import glob\n",
    "\n",
    "def meets_specifications(rmse):\n",
    "    \"\"\"\n",
    "    Takes in both RMSE values\n",
    "    Returns True if the RMSE is within specified values\n",
    "    \"\"\"\n",
    "    first_rmse = rmse[0]\n",
    "    second_rmse = rmse[1]\n",
    "    if first_rmse[0] <= .07 and \\\n",
    "        first_rmse[1] <= .07 and \\\n",
    "        first_rmse[2] <= .6 and \\\n",
    "        first_rmse[3] <= .6 and \\\n",
    "        second_rmse[0] <= .2 and \\\n",
    "        second_rmse[1] <= .2 and \\\n",
    "        second_rmse[2] <= .5 and \\\n",
    "        second_rmse[3] <= .83:\n",
    "        return True "
   ]
  },
  {
   "cell_type": "code",
   "execution_count": 13,
   "metadata": {
    "collapsed": false,
    "scrolled": true
   },
   "outputs": [
    {
     "name": "stdout",
     "output_type": "stream",
     "text": [
      "1: 0.161 4.05e-05 0.291394688643 Best: 100\n",
      "2: 0.161 4.06e-05 0.284914450108 Best: 0.291394688643\n",
      "3: 0.161 4.07e-05 0.285211716422 Best: 0.284914450108\n",
      "4: 0.161 4.08e-05 0.289463715333 Best: 0.284914450108\n",
      "5: 0.161 4.09e-05 0.295346788801 Best: 0.284914450108\n",
      "6: 0.161 4.1e-05 0.302170153386 Best: 0.284914450108\n",
      "7: 0.161 4.11e-05 0.309937937755 Best: 0.284914450108\n",
      "8: 0.161 4.12e-05 0.318994857991 Best: 0.284914450108\n",
      "9: 0.161 4.13e-05 0.329641641762 Best: 0.284914450108\n",
      "10: 0.161 4.14e-05 0.341677946327 Best: 0.284914450108\n",
      "11: 0.162 4.05e-05 0.322809922631 Best: 0.284914450108\n",
      "12: 0.162 4.06e-05 0.309218263532 Best: 0.284914450108\n",
      "13: 0.162 4.07e-05 0.296807595009 Best: 0.284914450108\n",
      "14: 0.162 4.08e-05 0.287437468756 Best: 0.284914450108\n",
      "15: 0.162 4.09e-05 0.284325156555 Best: 0.284914450108\n",
      "16: 0.162 4.1e-05 0.286909345677 Best: 0.284325156555\n",
      "17: 0.162 4.11e-05 0.292049871514 Best: 0.284325156555\n",
      "18: 0.162 4.12e-05 0.298357329762 Best: 0.284325156555\n",
      "19: 0.162 4.13e-05 0.305538054034 Best: 0.284325156555\n",
      "20: 0.162 4.14e-05 0.313778565369 Best: 0.284325156555\n"
     ]
    }
   ],
   "source": [
    "# Initialize a high value for the total mean squared error (Between both files)\n",
    "best_total = 100\n",
    "pro_noise_range = np.arange(0.161,.162,.001)\n",
    "meas_noise_range = np.arange(0.0000405,0.0000415,.0000001)\n",
    "i = 0\n",
    "for pro_noise, meas_noise in itertools.product(pro_noise_range, meas_noise_range):\n",
    "    i += 1\n",
    "    total = 0\n",
    "    rmse = [None,None]\n",
    "    for j, in_file_name_ in enumerate(glob.glob(\"../data/*\")):\n",
    "        rmse[j] = run_ekf(in_file_name_, (pro_noise, meas_noise))\n",
    "        total += np.sum(rmse[j])\n",
    "    print str(i) + \":\", pro_noise, meas_noise, total, \"Best:\", best_total\n",
    "    if best_total > total and meets_specifications(rmse):\n",
    "        best_total = total\n",
    "        best_values = pro_noise, meas_noise, rmse"
   ]
  },
  {
   "cell_type": "code",
   "execution_count": 14,
   "metadata": {
    "collapsed": false,
    "scrolled": true
   },
   "outputs": [
    {
     "name": "stdout",
     "output_type": "stream",
     "text": [
      "(0.16200000000000001, 4.0900000000000012e-05, [matrix([[ 0.0245491 ],\n",
      "        [ 0.06262924],\n",
      "        [ 0.02555261],\n",
      "        [ 0.01661092]]), matrix([[ 0.02132479],\n",
      "        [ 0.01438511],\n",
      "        [ 0.02233536],\n",
      "        [ 0.09693804]])])\n"
     ]
    }
   ],
   "source": [
    "print best_values"
   ]
  },
  {
   "cell_type": "markdown",
   "metadata": {},
   "source": [
    "From the above, I figure that a good measurment noise is 0.0000409, and a good process noise is 0.162.\n",
    "\n",
    "I found these value by finding optimal values for a wide range, then narrowing my each around optimal values further and searching again.  I did that iteration only a few times."
   ]
  },
  {
   "cell_type": "code",
   "execution_count": null,
   "metadata": {
    "collapsed": true
   },
   "outputs": [],
   "source": []
  }
 ],
 "metadata": {
  "kernelspec": {
   "display_name": "Python 2",
   "language": "python",
   "name": "python2"
  },
  "language_info": {
   "codemirror_mode": {
    "name": "ipython",
    "version": 2
   },
   "file_extension": ".py",
   "mimetype": "text/x-python",
   "name": "python",
   "nbconvert_exporter": "python",
   "pygments_lexer": "ipython2",
   "version": "2.7.12"
  },
  "widgets": {
   "state": {},
   "version": "1.1.2"
  }
 },
 "nbformat": 4,
 "nbformat_minor": 2
}
